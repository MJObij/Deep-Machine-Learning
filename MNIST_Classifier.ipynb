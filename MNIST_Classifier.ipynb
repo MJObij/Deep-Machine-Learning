{
 "cells": [
  {
   "cell_type": "code",
   "execution_count": 1,
   "id": "a31b795e-862c-4be0-896a-b487fdfddab7",
   "metadata": {},
   "outputs": [
    {
     "name": "stderr",
     "output_type": "stream",
     "text": [
      "2025-03-20 20:06:26.047413: I tensorflow/core/platform/cpu_feature_guard.cc:210] This TensorFlow binary is optimized to use available CPU instructions in performance-critical operations.\n",
      "To enable the following instructions: AVX2 FMA, in other operations, rebuild TensorFlow with the appropriate compiler flags.\n"
     ]
    }
   ],
   "source": [
    "import tensorflow as tf\n",
    "from tensorflow.keras.layers import Flatten, Dense, Softmax\n",
    "from tensorflow.keras.models import Sequential"
   ]
  },
  {
   "cell_type": "markdown",
   "id": "9e6b6d30-b261-42a8-aa56-f5ea633a7139",
   "metadata": {},
   "source": [
    "### Load and prepare the MNIST data set and convert teh sample data from integers to floating point numbers"
   ]
  },
  {
   "cell_type": "code",
   "execution_count": 3,
   "id": "03e22013-d4d7-4319-bc7e-13b4268dda5b",
   "metadata": {},
   "outputs": [],
   "source": [
    "mnist = tf.keras.datasets.mnist\n",
    "\n",
    "(x_train, y_train), (x_test, y_test) = mnist.load_data()"
   ]
  },
  {
   "cell_type": "code",
   "execution_count": 4,
   "id": "344a4f6e-2048-4498-9638-be2fb97b59cd",
   "metadata": {},
   "outputs": [
    {
     "data": {
      "text/plain": [
       "((60000, 28, 28), (60000,))"
      ]
     },
     "execution_count": 4,
     "metadata": {},
     "output_type": "execute_result"
    }
   ],
   "source": [
    "x_train.shape, y_train.shape"
   ]
  },
  {
   "cell_type": "code",
   "execution_count": 5,
   "id": "02132854-0ed0-440a-9895-58a277003519",
   "metadata": {},
   "outputs": [],
   "source": [
    "num_classes = 10\n",
    "y_train =  tf.keras.utils.to_categorical(y_train, num_classes)\n",
    "y_test = tf.keras.utils.to_categorical(y_test, num_classes)"
   ]
  },
  {
   "cell_type": "code",
   "execution_count": 6,
   "id": "9b919223-e66a-45ff-90dd-ba71ab9e8f32",
   "metadata": {},
   "outputs": [
    {
     "data": {
      "text/plain": [
       "(60000, 10)"
      ]
     },
     "execution_count": 6,
     "metadata": {},
     "output_type": "execute_result"
    }
   ],
   "source": [
    "y_train.shape"
   ]
  },
  {
   "cell_type": "code",
   "execution_count": 7,
   "id": "05c59dc5-0aef-44f0-a7a7-3f4d8703c188",
   "metadata": {},
   "outputs": [],
   "source": [
    "### Build the Machine Learning Model\n",
    "\n",
    "#### Build tf.keras.sequential model by stacking layers"
   ]
  },
  {
   "cell_type": "code",
   "execution_count": 8,
   "id": "3cc50438-ffa1-4a48-97d1-5de3345d3d81",
   "metadata": {},
   "outputs": [
    {
     "name": "stderr",
     "output_type": "stream",
     "text": [
      "/opt/anaconda3/lib/python3.12/site-packages/keras/src/layers/reshaping/flatten.py:37: UserWarning: Do not pass an `input_shape`/`input_dim` argument to a layer. When using Sequential models, prefer using an `Input(shape)` object as the first layer in the model instead.\n",
      "  super().__init__(**kwargs)\n"
     ]
    }
   ],
   "source": [
    "model = Sequential()\n",
    "model.add(Flatten(input_shape=(28,28)))\n",
    "model.add(Dense(128, activation='relu'))\n",
    "model.add(Dense(64, activation='relu'))\n",
    "model.add(Softmax())\n",
    "model.add(Dense(10))"
   ]
  },
  {
   "cell_type": "markdown",
   "id": "a7962351-4a72-450f-bb62-0811c8d340c4",
   "metadata": {},
   "source": [
    "#### tf.nn.softmax function converts these logits to probabilities for each class"
   ]
  },
  {
   "cell_type": "code",
   "execution_count": 10,
   "id": "2d3aa2a2-9ee0-4621-9c69-e73beecbf3a6",
   "metadata": {},
   "outputs": [],
   "source": [
    "loss_fn = tf.keras.losses.MeanSquaredError()"
   ]
  },
  {
   "cell_type": "code",
   "execution_count": 11,
   "id": "1b811495-9d4c-4909-b48d-935e8e1075fc",
   "metadata": {},
   "outputs": [],
   "source": [
    "model.compile(optimizer= 'adam', loss=loss_fn, metrics=['accuracy'])"
   ]
  },
  {
   "cell_type": "markdown",
   "id": "7e16321e-66c0-4153-9fc0-c13208a6d6b6",
   "metadata": {},
   "source": [
    "### Train and evaluate the model\n",
    "\n",
    "#### Use model.fit method to adjust the model parameters and minimise the loss"
   ]
  },
  {
   "cell_type": "code",
   "execution_count": 13,
   "id": "4fa46597-7148-43fe-bdd0-618c1ccb77f0",
   "metadata": {},
   "outputs": [
    {
     "name": "stdout",
     "output_type": "stream",
     "text": [
      "Epoch 1/5\n",
      "\u001b[1m1875/1875\u001b[0m \u001b[32m━━━━━━━━━━━━━━━━━━━━\u001b[0m\u001b[37m\u001b[0m \u001b[1m20s\u001b[0m 8ms/step - accuracy: 0.2178 - loss: 0.0859\n",
      "Epoch 2/5\n",
      "\u001b[1m1875/1875\u001b[0m \u001b[32m━━━━━━━━━━━━━━━━━━━━\u001b[0m\u001b[37m\u001b[0m \u001b[1m15s\u001b[0m 4ms/step - accuracy: 0.3117 - loss: 0.0748\n",
      "Epoch 3/5\n",
      "\u001b[1m1875/1875\u001b[0m \u001b[32m━━━━━━━━━━━━━━━━━━━━\u001b[0m\u001b[37m\u001b[0m \u001b[1m9s\u001b[0m 5ms/step - accuracy: 0.3581 - loss: 0.0710\n",
      "Epoch 4/5\n",
      "\u001b[1m1875/1875\u001b[0m \u001b[32m━━━━━━━━━━━━━━━━━━━━\u001b[0m\u001b[37m\u001b[0m \u001b[1m11s\u001b[0m 6ms/step - accuracy: 0.3593 - loss: 0.0694\n",
      "Epoch 5/5\n",
      "\u001b[1m1875/1875\u001b[0m \u001b[32m━━━━━━━━━━━━━━━━━━━━\u001b[0m\u001b[37m\u001b[0m \u001b[1m12s\u001b[0m 6ms/step - accuracy: 0.3719 - loss: 0.0682\n"
     ]
    },
    {
     "data": {
      "text/plain": [
       "<keras.src.callbacks.history.History at 0x13822d790>"
      ]
     },
     "execution_count": 13,
     "metadata": {},
     "output_type": "execute_result"
    }
   ],
   "source": [
    "model.fit(x_train, y_train, epochs=5)"
   ]
  },
  {
   "cell_type": "code",
   "execution_count": 14,
   "id": "8382ba17-0206-44d6-abb0-be9ba92a382c",
   "metadata": {},
   "outputs": [
    {
     "name": "stdout",
     "output_type": "stream",
     "text": [
      "313/313 - 1s - 3ms/step - accuracy: 0.4244 - loss: 0.0629\n"
     ]
    },
    {
     "data": {
      "text/plain": [
       "[0.06288282573223114, 0.4244000017642975]"
      ]
     },
     "execution_count": 14,
     "metadata": {},
     "output_type": "execute_result"
    }
   ],
   "source": [
    "model.evaluate(x_test, y_test, verbose=2)"
   ]
  },
  {
   "cell_type": "code",
   "execution_count": 15,
   "id": "52d0c131-acba-4e14-a9cc-90bec3d08114",
   "metadata": {},
   "outputs": [
    {
     "name": "stdout",
     "output_type": "stream",
     "text": [
      "\u001b[1m313/313\u001b[0m \u001b[32m━━━━━━━━━━━━━━━━━━━━\u001b[0m\u001b[37m\u001b[0m \u001b[1m1s\u001b[0m 2ms/step\n"
     ]
    }
   ],
   "source": [
    "predY = model.predict(x_test)"
   ]
  },
  {
   "cell_type": "code",
   "execution_count": 16,
   "id": "264bf125-0062-4977-b256-486c4c6dd4f4",
   "metadata": {},
   "outputs": [
    {
     "data": {
      "text/plain": [
       "(10000, 10)"
      ]
     },
     "execution_count": 16,
     "metadata": {},
     "output_type": "execute_result"
    }
   ],
   "source": [
    " predY.shape"
   ]
  },
  {
   "cell_type": "code",
   "execution_count": 17,
   "id": "03a7a328-ada1-4b7b-908d-48f8345d843b",
   "metadata": {},
   "outputs": [
    {
     "data": {
      "text/plain": [
       "array([ 1.4325548e-03, -3.8445443e-03,  1.0086216e-02,  6.7221262e-03,\n",
       "        8.7550282e-04, -5.7531768e-03,  2.4654493e-03,  8.8063753e-01,\n",
       "        3.1904466e-03,  9.1171674e-02], dtype=float32)"
      ]
     },
     "execution_count": 17,
     "metadata": {},
     "output_type": "execute_result"
    }
   ],
   "source": [
    "predY[0,:]"
   ]
  },
  {
   "cell_type": "code",
   "execution_count": 18,
   "id": "92735e09-cd49-435c-bf9f-82a23d1a4ec2",
   "metadata": {},
   "outputs": [],
   "source": [
    "classLabel = tf.argmax(predY,1)"
   ]
  },
  {
   "cell_type": "code",
   "execution_count": 19,
   "id": "b3829868-97e1-476b-8634-d74e25cf3378",
   "metadata": {},
   "outputs": [],
   "source": [
    "out = classLabel.numpy()"
   ]
  },
  {
   "cell_type": "code",
   "execution_count": 20,
   "id": "dda482a2-bc2f-40fd-bc6f-06693ad9def5",
   "metadata": {},
   "outputs": [
    {
     "data": {
      "text/plain": [
       "7"
      ]
     },
     "execution_count": 20,
     "metadata": {},
     "output_type": "execute_result"
    }
   ],
   "source": [
    "out[0]"
   ]
  },
  {
   "cell_type": "code",
   "execution_count": 21,
   "id": "1f0dc82e-c707-4390-a249-cb47b9e5abc9",
   "metadata": {},
   "outputs": [
    {
     "data": {
      "image/png": "[encoded data removed]",
      "text/plain": [
       "<Figure size 1000x1000 with 25 Axes>"
      ]
     },
     "metadata": {},
     "output_type": "display_data"
    }
   ],
   "source": [
    "from tensorflow.python.ops.check_ops import NUMERIC_TYPES\n",
    "from tensorflow.python.ops.script_ops import numpy_function\n",
    "from matplotlib import pyplot as plt\n",
    "\n",
    "\n",
    "startIdx = 300\n",
    "numRows = 5\n",
    "numCols = 5\n",
    "fig, axes = plt.subplots(numRows, numCols, figsize=(2*numCols,2*numRows))\n",
    "for i in range(25):\n",
    "    ax = axes[i//numCols, i%numCols]\n",
    "    ax.imshow(x_test[i+startIdx,::], cmap='grey')\n",
    "    ax.set_title('Label: {}'.format(classLabel[i+startIdx]))\n",
    "    ax.tick_params(labelbottom=False)\n",
    "    ax.tick_params(labelleft=False)\n",
    "\n",
    "plt.tight_layout()\n",
    "plt.show()"
   ]
  },
  {
   "cell_type": "code",
   "execution_count": null,
   "id": "f795cc88-da31-4819-b353-f3cacac0ca73",
   "metadata": {},
   "outputs": [],
   "source": []
  }
 ],
 "metadata": {
  "kernelspec": {
   "display_name": "Python [conda env:base] *",
   "language": "python",
   "name": "conda-base-py"
  },
  "language_info": {
   "codemirror_mode": {
    "name": "ipython",
    "version": 3
   },
   "file_extension": ".py",
   "mimetype": "text/x-python",
   "name": "python",
   "nbconvert_exporter": "python",
   "pygments_lexer": "ipython3",
   "version": "3.12.7"
  }
 },
 "nbformat": 4,
 "nbformat_minor": 5
}
