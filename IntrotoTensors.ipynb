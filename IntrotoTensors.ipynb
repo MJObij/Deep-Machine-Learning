{
 "cells": [
  {
   "cell_type": "markdown",
   "id": "5ca17df7-e134-4987-a37c-d84cf93c2392",
   "metadata": {},
   "source": [
    "### Import Libraries"
   ]
  },
  {
   "cell_type": "code",
   "execution_count": null,
   "id": "e8087bc5-8779-4e62-bf97-ba217818cee2",
   "metadata": {},
   "outputs": [],
   "source": [
    "import numpy as np\n",
    "import tensorflow as tf\n",
    "import matplotlib.pyplot as plt"
   ]
  },
  {
   "cell_type": "markdown",
   "id": "3b9a442f-5c57-48a3-be8f-675117b007a5",
   "metadata": {},
   "source": [
    "#### Initialise the Basics of Tensorflow"
   ]
  },
  {
   "cell_type": "code",
   "execution_count": null,
   "id": "c0090854-75bb-4617-807d-12b2c8610a4e",
   "metadata": {},
   "outputs": [],
   "source": [
    "# rank-0 or scalar tensor. Scaler tensor containg a single calue, and no axes\n",
    "\n",
    "rank_0_tensor = tf.constant(4)\n",
    "print(rank_0_tensor)"
   ]
  },
  {
   "cell_type": "code",
   "execution_count": null,
   "id": "4bc08922-9abd-469a-b717-816e768702e4",
   "metadata": {},
   "outputs": [],
   "source": [
    "# Vector or rank-1 tensor is like a list of values. A vector has one axis\n",
    "\n",
    "rank_1_tensor = tf.constant([2.0, 3.0, 4.0]) # specify the values\n",
    "print(rank_1_tensor)"
   ]
  },
  {
   "cell_type": "code",
   "execution_count": null,
   "id": "c08f2191-e9bf-4541-9857-f44be0d32c4f",
   "metadata": {},
   "outputs": [],
   "source": [
    "# A matrix or rank-2 tensor has two axes\n",
    "\n",
    "rank_2_tensor = tf.constant([[1,2], [3,4], [5,6]], dtype=tf.float16)\n",
    "print(rank_2_tensor)"
   ]
  },
  {
   "cell_type": "code",
   "execution_count": null,
   "id": "5a8bbd8f-0f00-42d2-90ba-f324cdad9dac",
   "metadata": {},
   "outputs": [],
   "source": [
    "# There can be more than three axis (dimensions)\n",
    "\n",
    "rank_3_tensor = tf.constant([[[0,1,2,3,4], [5,6,7,8,9]], [[10,11,12,13,14],[15,16,17,18,19]],[[20,21,22,23,24],[25,26,27,28,29]],])\n",
    "print(rank_3_tensor)"
   ]
  },
  {
   "cell_type": "code",
   "execution_count": null,
   "id": "96ac4c36-be3e-40f8-a425-d6b153a5a7b1",
   "metadata": {},
   "outputs": [],
   "source": [
    "# Convert to a numpy array\n",
    "\n",
    "np.array(rank_2_tensor)"
   ]
  },
  {
   "cell_type": "code",
   "execution_count": null,
   "id": "a0687eaa-24db-4db8-a9b4-45a5220dc2a2",
   "metadata": {},
   "outputs": [],
   "source": [
    "rank_2_tensor.numpy()"
   ]
  },
  {
   "cell_type": "markdown",
   "id": "4d5c029c-5179-4be8-9a39-eaeac6d2025c",
   "metadata": {},
   "source": [
    "### Compute the gradient of a Vector using TensorFlow"
   ]
  },
  {
   "cell_type": "code",
   "execution_count": null,
   "id": "15c7df3e-3c52-4ed7-a80b-7c680661af8d",
   "metadata": {},
   "outputs": [],
   "source": [
    "# Define a tensor that represents the function we want to differentiate\n",
    "\n",
    "x = tf.Variable(np.linspace(-10,10, 100)) "
   ]
  },
  {
   "cell_type": "code",
   "execution_count": null,
   "id": "a189ecd1-69d6-492d-af32-3a5007fd36cd",
   "metadata": {},
   "outputs": [],
   "source": [
    "# Record operations using GradientTape\n",
    "\n",
    "with tf.GradientTape() as tape:\n",
    "    y = x**2 # define a function of x"
   ]
  },
  {
   "cell_type": "code",
   "execution_count": null,
   "id": "637c7605-a9b1-479c-be0f-51aef13c3b1b",
   "metadata": {},
   "outputs": [],
   "source": [
    "# Compute the gradient dy/dx\n",
    "gradients = tape.gradient(y, x)\n",
    "print(gradients.numpy())"
   ]
  },
  {
   "cell_type": "code",
   "execution_count": null,
   "id": "166d349c-f307-4474-8f0d-3afe94c2fe91",
   "metadata": {},
   "outputs": [],
   "source": [
    "x_np = x.numpy()\n",
    "y_np = y.numpy()\n",
    "gradient_np = gradients.numpy()"
   ]
  },
  {
   "cell_type": "code",
   "execution_count": null,
   "id": "6bd52dfe-6c89-4734-a307-f5644313afa9",
   "metadata": {},
   "outputs": [],
   "source": [
    "plt.figure(figsize=(8,6))\n",
    "plt.plot(x_np, y_np, label=\"y = x²\", color='blue')\n",
    "plt.quiver(x_np, y_np, np.ones_like(gradient_np), gradient_np,\n",
    "           angles=\"xy\", scale_units=\"xy\", scale=10, color='red', label=\"Gradient dy/dx\")\n",
    "\n",
    "plt.xlabel(\"x\")\n",
    "plt.ylabel(\"y\")\n",
    "plt.title(\"Function y = x² and its Gradient\")\n",
    "plt.legend()\n",
    "plt.grid()\n",
    "\n",
    "plt.show()"
   ]
  },
  {
   "cell_type": "code",
   "execution_count": null,
   "id": "dbc2b9c1-3e2d-4966-b79b-93dd0e95edd3",
   "metadata": {},
   "outputs": [],
   "source": [
    "# Define the sigmoid function\n",
    "def sigmoid(x):\n",
    "    return 1 / (1 + np.exp(-x))\n",
    "\n",
    "x = np.linspace(-10, 10, 100) \n",
    "\n",
    "y = sigmoid(x)\n",
    "\n",
    "plt.plot(x, y, label=\"Sigmoid Function\")\n",
    "plt.xlabel(\"x\")\n",
    "plt.ylabel(\"σ(x)\")\n",
    "plt.title(\"Sigmoid Function Visualization\")\n",
    "plt.grid(True)\n",
    "plt.legend()\n",
    "plt.show()"
   ]
  },
  {
   "cell_type": "markdown",
   "id": "db566590-6209-4eae-9dff-20b601fbbb00",
   "metadata": {},
   "source": [
    " Sigmoid function maps any real number to a value between 0 and 1. Mainly used in binary classification problems and as an activation function in neural networks.When 𝑥 = 0 the function outputs 0.5 (this makes it symmetric around the origin).The sigmoid function has an S-shaped (sigmoidal) curve.\n",
    "It is a monotonic function, meaning it is always increasing and never decreases.\n",
    "It has a single inflection point at 𝑥 = 0 where the curve changes from being concave up to concave down.\n"
   ]
  }
 ],
 "metadata": {
  "kernelspec": {
   "display_name": "Python [conda env:base] *",
   "language": "python",
   "name": "conda-base-py"
  },
  "language_info": {
   "codemirror_mode": {
    "name": "ipython",
    "version": 3
   },
   "file_extension": ".py",
   "mimetype": "text/x-python",
   "name": "python",
   "nbconvert_exporter": "python",
   "pygments_lexer": "ipython3",
   "version": "3.12.7"
  }
 },
 "nbformat": 4,
 "nbformat_minor": 5
}
